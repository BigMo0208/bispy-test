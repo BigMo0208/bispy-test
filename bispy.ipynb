{
 "cells": [
  {
   "cell_type": "code",
   "execution_count": null,
   "metadata": {},
   "outputs": [],
   "source": [
    "!pip install networkx\n",
    "!pip install llist\n",
    "# Bispy from https://github.com/fandreuz/BisPy"
   ]
  },
  {
   "cell_type": "code",
   "execution_count": 1,
   "metadata": {},
   "outputs": [],
   "source": [
    "from bispy import compute_maximum_bisimulation\n",
    "import networkx as nx"
   ]
  },
  {
   "cell_type": "code",
   "execution_count": 2,
   "metadata": {},
   "outputs": [],
   "source": [
    "graph = nx.DiGraph()\n",
    "\n",
    "graph.add_node(\"1\")\n",
    "graph.add_node(\"2a\")\n",
    "graph.add_node(\"2b\")\n",
    "graph.add_node(\"2c\")\n",
    "graph.add_node(\"3a\")\n",
    "graph.add_node(\"3b\")\n",
    "graph.add_node(\"3c\")\n",
    "graph.add_node(\"3d\")\n",
    "\n",
    "\n",
    "graph.add_edge(\"1\", \"2b\")\n",
    "graph.add_edge(\"1\", \"3c\")\n",
    "graph.add_edge(\"1\", \"3b\")\n",
    "graph.add_edge(\"1\", \"2c\")\n",
    "graph.add_edge(\"2a\", \"2c\")\n",
    "graph.add_edge(\"2a\", \"3a\")\n",
    "graph.add_edge(\"2b\", \"2a\")\n",
    "graph.add_edge(\"2b\", \"3b\")\n",
    "graph.add_edge(\"2c\", \"2b\")\n",
    "graph.add_edge(\"2c\", \"3c\")"
   ]
  },
  {
   "cell_type": "code",
   "execution_count": 3,
   "metadata": {},
   "outputs": [
    {
     "data": {
      "text/plain": [
       "[('3a', '3b', '3c', '3d'), ('2b', '1', '2c', '2a')]"
      ]
     },
     "execution_count": 3,
     "metadata": {},
     "output_type": "execute_result"
    }
   ],
   "source": [
    "compute_maximum_bisimulation(graph)"
   ]
  },
  {
   "cell_type": "code",
   "execution_count": null,
   "metadata": {},
   "outputs": [],
   "source": []
  }
 ],
 "metadata": {
  "kernelspec": {
   "display_name": "bisimulation",
   "language": "python",
   "name": "python3"
  },
  "language_info": {
   "codemirror_mode": {
    "name": "ipython",
    "version": 3
   },
   "file_extension": ".py",
   "mimetype": "text/x-python",
   "name": "python",
   "nbconvert_exporter": "python",
   "pygments_lexer": "ipython3",
   "version": "3.11.7"
  }
 },
 "nbformat": 4,
 "nbformat_minor": 2
}
